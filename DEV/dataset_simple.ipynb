{
 "cells": [
  {
   "cell_type": "code",
   "execution_count": 3,
   "metadata": {},
   "outputs": [
    {
     "name": "stdout",
     "output_type": "stream",
     "text": [
      "c:\\Users\\igor-\\.cloned\\trailing_orders-1\\DEV\\datasets\\250_ETHUSDT_1h_2021-10-14_2022-10-17\n"
     ]
    },
    {
     "name": "stderr",
     "output_type": "stream",
     "text": [
      "C:\\Users\\igor-\\AppData\\Local\\Packages\\PythonSoftwareFoundation.Python.3.10_qbz5n2kfra8p0\\LocalCache\\local-packages\\Python310\\site-packages\\tqdm\\auto.py:22: TqdmWarning: IProgress not found. Please update jupyter and ipywidgets. See https://ipywidgets.readthedocs.io/en/stable/user_install.html\n",
      "  from .autonotebook import tqdm as notebook_tqdm\n"
     ]
    }
   ],
   "source": [
    "#%%\n",
    "\n",
    "\n",
    "import logging\n",
    "from binance.um_futures import UMFutures as Client\n",
    "from binance.lib.utils import config_logging\n",
    "from binance.error import ClientError\n",
    "import dateparser\n",
    "import pandas as pd\n",
    "import numpy as np\n",
    "import json\n",
    "import matplotlib.pyplot as plt\n",
    "import os\n",
    "from scipy import signal\n",
    "from datetime import datetime\n",
    "import matplotlib.dates as mdates\n",
    "import matplotlib.cbook as cbook\n",
    "import torch\n",
    "from torch.utils.data import Dataset\n",
    "from torchvision import datasets\n",
    "from torchvision.transforms import ToTensor\n",
    "import matplotlib.pyplot as plt\n",
    "#%%\n",
    "\n",
    "\n",
    "akey = os.environ.get(\"API_KEY\")\n",
    "asec = os.environ.get(\"API_SECRET\")\n",
    "futures_client = Client(key = akey, secret= asec)\n",
    "\n",
    "#%%\n",
    "\n",
    "#DATA PARAMETERS\n",
    "\n",
    "PREFIX = os.getcwd()\n",
    "BLOCK = 512\n",
    "DUMP = '.csv'\n",
    "DATA_DIR = os.path.join(PREFIX, \"datasets\")\n",
    "\n",
    "#%%\n",
    "\n",
    "TIMEFRAME = \"1h\"\n",
    "PAIR = \"ETHUSDT\"\n",
    "# FROM_DATE = \"2022-01-14 01:00:00\" \n",
    "# TO_DATE = \"2022-10-05 01:00:00\"\n",
    "FROM_DATE = \"2021-10-14\" \n",
    "TO_DATE = \"2022-10-17\"\n",
    "NUM_DATA = 250 #max 100k idk why\n",
    "\n",
    "#%%\n",
    "\n",
    "###\n",
    "\n",
    "#PARAMETERS\n",
    "\n",
    "DATA_WINDOW_LENGTH = BLOCK\n",
    "ROLLING_WINDOW_LENGTH = 12 #this is correlated with the chosen TIMEFRAME and as such should be a function of that; something about the frequency of local minima and maxima\n",
    "CALLBACKRATE_FACTOR = 10\n",
    "\n",
    "###\n",
    "\n",
    "dir_name = f\"{NUM_DATA}_{PAIR}_{TIMEFRAME}_{FROM_DATE.replace(' ', '-').replace(':', '')}_{TO_DATE.replace(' ', '-').replace(':', '')}\"\n",
    "\n",
    "NEW_DATA_DIR = os.path.join(PREFIX, DATA_DIR, dir_name)\n",
    "\n",
    "if not os.path.exists(NEW_DATA_DIR):\n",
    "    os.makedirs(NEW_DATA_DIR)\n",
    "print(NEW_DATA_DIR)    \n",
    "\n",
    "\n",
    "\n",
    "\n",
    "class CustomDataset(Dataset):\n",
    "    def __init__(self, data_path, transform=None, target_transform=None):\n",
    "        \n",
    "        self.data_path\n",
    "        self.read_labels_feats()\n",
    "        self.transform = transform\n",
    "        self.target_transform = target_transform\n",
    "\n",
    "    def read_labels_feats(self):\n",
    "                # any additional label treatment\n",
    "        self.labels = pd.read_csv(self.data_path + \"_labels.csv\")\n",
    "        self.labels.drop(['Unnamed: 0'], axis=1, inplace=True)\n",
    "        \n",
    "        #feature engineering\n",
    "        self.features = pd.read_csv(self.data_path + \"_features.csv\")\n",
    "        self.features.drop(['Unnamed: 0'], axis=1, inplace=True)\n",
    "        self.features.drop(['close_time'], axis=1, inplace=True)\n",
    "        self.features.drop(['labels'], axis=1, inplace=True)\n",
    "\n",
    "    def __len__(self):\n",
    "        return len(self.features)\n",
    "\n",
    "    def __getitem__(self, idx):\n",
    "\n",
    "        feature = self.features.iloc[idx, :]\n",
    "        label = self.labels.iloc[idx]\n",
    "\n",
    "        if self.transform:\n",
    "            feature = self.transform(feature)\n",
    "        if self.target_transform:\n",
    "            label = self.target_transform(label)\n",
    "        return feature, label"
   ]
  }
 ],
 "metadata": {
  "kernelspec": {
   "display_name": "Python 3.10.8 64-bit (microsoft store)",
   "language": "python",
   "name": "python3"
  },
  "language_info": {
   "codemirror_mode": {
    "name": "ipython",
    "version": 3
   },
   "file_extension": ".py",
   "mimetype": "text/x-python",
   "name": "python",
   "nbconvert_exporter": "python",
   "pygments_lexer": "ipython3",
   "version": "3.10.8"
  },
  "orig_nbformat": 4,
  "vscode": {
   "interpreter": {
    "hash": "8c5343a070c74485826cbd29caec0ade403a3b284938f731d16673ef12914a7d"
   }
  }
 },
 "nbformat": 4,
 "nbformat_minor": 2
}
