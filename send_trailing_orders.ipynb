{
 "cells": [
  {
   "cell_type": "code",
   "execution_count": 25,
   "metadata": {},
   "outputs": [],
   "source": [
    "import logging\n",
    "from binance.futures import Futures as Client\n",
    "from binance.lib.utils import config_logging\n",
    "from binance.error import ClientError\n",
    "import pandas as pd\n",
    "import json\n",
    "import matplotlib.pyplot as plt\n",
    "import os"
   ]
  },
  {
   "cell_type": "code",
   "execution_count": 45,
   "metadata": {},
   "outputs": [],
   "source": [
    "#PARAMETERS\n",
    "TIMEFRAME = \"4h\"\n",
    "# PAIR = \"BTCUSDT\"\n",
    "PAIR = \"ENSUSDT\"\n",
    "DATA_WINDOW_LENGTH = 30\n",
    "ROLLING_WINDOW_LENGTH = 6 #this is correlated with the chosen TIMEFRAME and as such should be a function of that; something about the frequency of local minima and maxima\n",
    "LEVERAGE = 10"
   ]
  },
  {
   "cell_type": "code",
   "execution_count": 46,
   "metadata": {},
   "outputs": [],
   "source": [
    "akey = os.environ.get(\"API_KEY\")\n",
    "asec = os.environ.get(\"API_SECRET\")"
   ]
  },
  {
   "cell_type": "code",
   "execution_count": 47,
   "metadata": {},
   "outputs": [],
   "source": [
    "%%capture\n",
    "config_logging(logging, logging.DEBUG)\n",
    "futures_client = Client(key = akey, secret= asec)\n",
    "# logging.info(futures_client.continuous_klines(\"BTCUSDT\", 'PERPETUAL', '15m', limit=100));\n",
    "klines = futures_client.continuous_klines(PAIR, 'PERPETUAL', TIMEFRAME, limit=DATA_WINDOW_LENGTH);"
   ]
  },
  {
   "cell_type": "code",
   "execution_count": 48,
   "metadata": {},
   "outputs": [],
   "source": [
    "def process_klines(klines):\n",
    "\n",
    "    df = pd.DataFrame(klines)\n",
    "    df.columns = ['open_time', 'open', 'high', 'low', 'close', 'volume', 'close_time', 'quote_asset_volume', 'trades', 'taker_buy_volume', 'taker_buy_quote_asset_volume', 'ignore']\n",
    "    df['open_time'] = pd.to_datetime(df['open_time'], unit='ms')\n",
    "    df['close_time'] = pd.to_datetime(df['close_time'], unit='ms')\n",
    "    df['open'] = pd.to_numeric(df['open'])\n",
    "    df['high'] = pd.to_numeric(df['high'])\n",
    "    df['low'] = pd.to_numeric(df['low'])\n",
    "    df['close'] = pd.to_numeric(df['close'])\n",
    "    df['volume'] = pd.to_numeric(df['volume'])\n",
    "    df['quote_asset_volume'] = pd.to_numeric(df['quote_asset_volume'])\n",
    "    df['trades'] = pd.to_numeric(df['trades'])\n",
    "    df['taker_buy_volume'] = pd.to_numeric(df['taker_buy_volume'])\n",
    "    df['taker_buy_quote_asset_volume'] = pd.to_numeric(df['taker_buy_quote_asset_volume'])\n",
    "    df['ignore'] = pd.to_numeric(df['ignore'])\n",
    "    df.drop(['ignore'], axis=1, inplace=True)\n",
    "    return df"
   ]
  },
  {
   "cell_type": "code",
   "execution_count": 49,
   "metadata": {},
   "outputs": [],
   "source": [
    "df = process_klines(klines)\n",
    "df;"
   ]
  },
  {
   "cell_type": "code",
   "execution_count": 50,
   "metadata": {},
   "outputs": [],
   "source": [
    "closes_mean = df.close.ewm(halflife=pd.Timedelta(TIMEFRAME)/2, ignore_na=True, min_periods=ROLLING_WINDOW_LENGTH, times=df.open_time).mean()\n",
    "closes_std = df.close.ewm(halflife=pd.Timedelta(TIMEFRAME)/2, ignore_na=True, min_periods=ROLLING_WINDOW_LENGTH, times=df.open_time).std()"
   ]
  },
  {
   "cell_type": "code",
   "execution_count": 51,
   "metadata": {},
   "outputs": [
    {
     "data": {
      "text/plain": [
       "[<matplotlib.lines.Line2D at 0x2501f5ffca0>]"
      ]
     },
     "execution_count": 51,
     "metadata": {},
     "output_type": "execute_result"
    },
    {
     "data": {
      "image/png": "[encoded data removed]",
      "text/plain": [
       "<Figure size 432x288 with 1 Axes>"
      ]
     },
     "metadata": {},
     "output_type": "display_data"
    }
   ],
   "source": [
    "ax1 = plt.axis(); plt.plot(closes_mean)\n",
    "ax2 = plt.axis(); plt.plot(closes_mean + closes_std)\n",
    "ax3 = plt.axis(); plt.plot(closes_mean - closes_std)"
   ]
  },
  {
   "cell_type": "code",
   "execution_count": 52,
   "metadata": {},
   "outputs": [
    {
     "name": "stdout",
     "output_type": "stream",
     "text": [
      "0.05334480333547935\n",
      "0.05\n"
     ]
    }
   ],
   "source": [
    "avg_pdev = (closes_std/closes_mean).mean() # average percentual deviation from the EMA\n",
    "print(avg_pdev)\n",
    "callback_rate = round(avg_pdev, ndigits=2)\n",
    "print(callback_rate)"
   ]
  },
  {
   "cell_type": "code",
   "execution_count": 54,
   "metadata": {},
   "outputs": [
    {
     "name": "stdout",
     "output_type": "stream",
     "text": [
      "1.0031596567494752\n",
      "18.59082716032627\n"
     ]
    }
   ],
   "source": [
    "print(closes_std.mean())\n",
    "print(closes_mean.mean())"
   ]
  },
  {
   "cell_type": "code",
   "execution_count": 57,
   "metadata": {},
   "outputs": [
    {
     "data": {
      "text/plain": [
       "5.334480333547935"
      ]
     },
     "execution_count": 57,
     "metadata": {},
     "output_type": "execute_result"
    }
   ],
   "source": [
    "avg_pdev = (closes_std/closes_mean).mean()*100\n",
    "avg_pdev"
   ]
  },
  {
   "cell_type": "code",
   "execution_count": 36,
   "metadata": {},
   "outputs": [],
   "source": [
    "acc_info = futures_client.account();\n",
    "acc_info[\"positions\"];"
   ]
  },
  {
   "cell_type": "code",
   "execution_count": 37,
   "metadata": {},
   "outputs": [],
   "source": [
    "def get_open_positions(acc_info):\n",
    "    positions = acc_info[\"positions\"]\n",
    "    for position in positions:\n",
    "        if float(position[\"positionAmt\"]) != 0.0:\n",
    "            print(f\"{position['symbol']}: {position['unrealizedProfit']}; {position['positionAmt']}\")\n",
    "    "
   ]
  },
  {
   "cell_type": "code",
   "execution_count": 38,
   "metadata": {},
   "outputs": [
    {
     "name": "stdout",
     "output_type": "stream",
     "text": [
      "ENSUSDT: -3.09037231; -25.7\n"
     ]
    }
   ],
   "source": [
    "get_open_positions(acc_info)"
   ]
  },
  {
   "cell_type": "code",
   "execution_count": 23,
   "metadata": {},
   "outputs": [],
   "source": [
    "response = futures_client.new_order(symbol=PAIR, side = \"BUY\", type= \"TRAILING_STOP_MARKET\", quantity= 25.7, reduceOnly = True, timeInForce=\"GTC\", activationPrice= 19.650, callbackRate=0.1)"
   ]
  },
  {
   "cell_type": "code",
   "execution_count": 24,
   "metadata": {},
   "outputs": [
    {
     "data": {
      "text/plain": [
       "{'orderId': 821853577,\n",
       " 'symbol': 'ENSUSDT',\n",
       " 'status': 'NEW',\n",
       " 'clientOrderId': 'zDnEQAHmNsyMBOFyO4deMi',\n",
       " 'price': '0',\n",
       " 'avgPrice': '0.0000',\n",
       " 'origQty': '25.7',\n",
       " 'executedQty': '0',\n",
       " 'cumQty': '0',\n",
       " 'activatePrice': '19.650',\n",
       " 'priceRate': '0.1',\n",
       " 'cumQuote': '0',\n",
       " 'timeInForce': 'GTC',\n",
       " 'type': 'TRAILING_STOP_MARKET',\n",
       " 'reduceOnly': True,\n",
       " 'closePosition': False,\n",
       " 'side': 'BUY',\n",
       " 'positionSide': 'BOTH',\n",
       " 'stopPrice': '0',\n",
       " 'workingType': 'CONTRACT_PRICE',\n",
       " 'priceProtect': False,\n",
       " 'origType': 'TRAILING_STOP_MARKET',\n",
       " 'updateTime': 1651395952414}"
      ]
     },
     "execution_count": 24,
     "metadata": {},
     "output_type": "execute_result"
    }
   ],
   "source": [
    "response"
   ]
  },
  {
   "cell_type": "code",
   "execution_count": 20,
   "metadata": {},
   "outputs": [],
   "source": [
    "# client = Client(key, secret, base_url=\"https://fapi.binance.com\")\n",
    "\n",
    "try:\n",
    "    response = futures_client.new_order(symbol=PAIR, side = \"BUY\", type= \"TRAILING_STOP_MARKET\", quantity= 25.7, reduceOnly = True, timeInForce=\"GTC\", activationPrice= 19.650)\n",
    "    logging.info(response)\n",
    "except ClientError as error:\n",
    "    logging.error(\n",
    "        \"Found error. status: {}, error code: {}, error message: {}\".format(\n",
    "            error.status_code, error.error_code, error.error_message\n",
    "        )\n",
    "    )"
   ]
  },
  {
   "cell_type": "code",
   "execution_count": null,
   "metadata": {},
   "outputs": [],
   "source": []
  }
 ],
 "metadata": {
  "interpreter": {
   "hash": "fb43a07c0797a945b2092a1d9aed5ed97c34116cfb334043e855f3fe69cecfd9"
  },
  "kernelspec": {
   "display_name": "Python 3.9.7 ('trailing_orders')",
   "language": "python",
   "name": "python3"
  },
  "language_info": {
   "codemirror_mode": {
    "name": "ipython",
    "version": 3
   },
   "file_extension": ".py",
   "mimetype": "text/x-python",
   "name": "python",
   "nbconvert_exporter": "python",
   "pygments_lexer": "ipython3",
   "version": "3.9.7"
  },
  "orig_nbformat": 4
 },
 "nbformat": 4,
 "nbformat_minor": 2
}
